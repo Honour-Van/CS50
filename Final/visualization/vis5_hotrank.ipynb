{
 "cells": [
  {
   "cell_type": "code",
   "execution_count": 2,
   "metadata": {},
   "outputs": [
    {
     "output_type": "stream",
     "name": "stderr",
     "text": [
      "D:\\anaconda3\\envs\\torch_ernie\\lib\\site-packages\\pip\\_vendor\\packaging\\version.py:130: DeprecationWarning: Creating a LegacyVersion has been deprecated and will be removed in the next major release\n",
      "  DeprecationWarning,\n",
      "D:\\anaconda3\\envs\\torch_ernie\\lib\\site-packages\\pip\\_vendor\\packaging\\version.py:130: DeprecationWarning: Creating a LegacyVersion has been deprecated and will be removed in the next major release\n",
      "  DeprecationWarning,\n",
      "\u001b[33m[2021-06-13 14:23:50,991] [ WARNING]\u001b[0m - The _initialize method in HubModule will soon be deprecated, you can use the __init__() to handle the initialization of the object\u001b[0m\n",
      "\u001b[33m[2021-06-13 14:23:53,818] [ WARNING]\u001b[0m - The _initialize method in HubModule will soon be deprecated, you can use the __init__() to handle the initialization of the object\u001b[0m\n",
      "[ooooooooooooooooooooooooooooooooooooooooooooooooooooooooooooooooooooooooooooooooooooooooooooooooooooo](23608/23609)loaded..."
     ]
    },
    {
     "output_type": "execute_result",
     "data": {
      "text/plain": [
       "'d:\\\\CS50\\\\Final\\\\out\\\\tmp\\\\hotrank_senti.html'"
      ]
     },
     "metadata": {},
     "execution_count": 2
    }
   ],
   "source": [
    "from senta import Senta\n",
    "from mytool import progress_bar\n",
    "senta = Senta()\n",
    "\n",
    "from pyecharts.charts import Pie, Timeline\n",
    "from pyecharts.globals import ThemeType\n",
    "import pyecharts.options as opts\n",
    "\n",
    "tl = Timeline(\n",
    "    init_opts=opts.InitOpts(width='1400px',\n",
    "                            height='1000px',\n",
    "                            page_title=\"微博热榜\",\n",
    "                            theme=ThemeType.INFOGRAPHIC)\n",
    ")\n",
    "data = []\n",
    "import os\n",
    "for root, dirs, files in os.walk('./out/hotrank/'):\n",
    "    pb = progress_bar(len(files))\n",
    "    cnt = 0\n",
    "    for file in files:\n",
    "        with open(root+file, 'r', encoding='utf-8') as f:\n",
    "            for line in f.readlines():\n",
    "                senta.add(line.split(',')[0])\n",
    "        senta.predict()\n",
    "        num_pos = 0\n",
    "        num_neg = 0\n",
    "        num_neu = 0\n",
    "        for item in senta.results:\n",
    "            positive_prob = round(item['positive_probs'], 2)\n",
    "            negative_prob = round(item['negative_probs'], 2)\n",
    "            if positive_prob >= 0.7:\n",
    "                num_pos += 1\n",
    "            elif negative_prob >= 0.6:\n",
    "                num_neg += 1\n",
    "            else:\n",
    "                num_neu += 1\n",
    "        data.append({f\"{file[:5]} {file[6:8]}:{file[9:11]}\":[num_pos,num_neu,num_neg]})\n",
    "        pie = (\n",
    "            Pie()\n",
    "            .add(\n",
    "                series_name=\"舆情分布\",\n",
    "                data_pair=[[\"积极\",num_pos],[\"中性\",num_neu],[\"消极\",num_neg]],\n",
    "                rosetype=\"radius\",\n",
    "                radius=\"55%\",\n",
    "                center=[\"50%\", \"50%\"],\n",
    "                label_opts=opts.LabelOpts(\n",
    "                    position=\"outside\",\n",
    "                    formatter=\"{a|{a}}{abg|}\\n{hr|}\\n {b|{b}: }{c}  {per|{d}%}  \",\n",
    "                    background_color=\"#eee\",\n",
    "                    border_color=\"#aaa\",\n",
    "                    border_width=1,\n",
    "                    border_radius=4,\n",
    "                    rich={\n",
    "                        \"a\": {\"color\": \"#999\", \"lineHeight\": 22, \"align\": \"center\"},\n",
    "                        \"abg\": {\n",
    "                            \"backgroundColor\": \"#e3e3e3\",\n",
    "                            \"width\": \"100%\",\n",
    "                            \"align\": \"right\",\n",
    "                            \"height\": 22,\n",
    "                            \"borderRadius\": [4, 4, 0, 0],\n",
    "                        },\n",
    "                        \"hr\": {\n",
    "                            \"borderColor\": \"#aaa\",\n",
    "                            \"width\": \"100%\",\n",
    "                            \"borderWidth\": 0.5,\n",
    "                            \"height\": 0,\n",
    "                        },\n",
    "                        \"b\": {\"fontSize\": 16, \"lineHeight\": 33},\n",
    "                        \"per\": {\n",
    "                            \"color\": \"#eee\",\n",
    "                            \"backgroundColor\": \"#334455\",\n",
    "                            \"padding\": [2, 4],\n",
    "                            \"borderRadius\": 2,\n",
    "                        },\n",
    "                    },\n",
    "                )\n",
    "            )\n",
    "            .set_global_opts(\n",
    "                title_opts=opts.TitleOpts(\n",
    "                    title=\"Customized Pie\",\n",
    "                    pos_left=\"center\",\n",
    "                    pos_top=\"20\",\n",
    "                    title_textstyle_opts=opts.TextStyleOpts(color=\"#fff\"),\n",
    "                ),\n",
    "                legend_opts=opts.LegendOpts(is_show=False),\n",
    "            )\n",
    "            .set_series_opts(\n",
    "                tooltip_opts=opts.TooltipOpts(\n",
    "                    trigger=\"item\", formatter=\"{a} <br/>{b}: {c} ({d}%)\"\n",
    "                ),\n",
    "            )\n",
    "        )\n",
    "        tl.add(pie,f\"{file[:5]} {file[6:8]}:{file[9:11]}\")\n",
    "        pb.progress(cnt)\n",
    "        cnt += 1\n",
    "tl.render('./out/tmp/hotrank_senti.html')"
   ]
  },
  {
   "cell_type": "code",
   "execution_count": 3,
   "metadata": {},
   "outputs": [],
   "source": [
    "import json\n",
    "with open('./out/hotrank_stat.json','w',encoding='utf-8') as f:\n",
    "    json.dump(data,f)"
   ]
  },
  {
   "cell_type": "code",
   "execution_count": 4,
   "id": "79765996",
   "metadata": {},
   "outputs": [
    {
     "output_type": "execute_result",
     "data": {
      "text/plain": [
       "'d:\\\\CS50\\\\Final\\\\out\\\\tmp\\\\hotrank.html'"
      ]
     },
     "metadata": {},
     "execution_count": 4
    }
   ],
   "source": [
    "from pyecharts.charts import Bar, Pie, Timeline, Grid\n",
    "from pyecharts.globals import ThemeType\n",
    "import pyecharts.options as opts\n",
    "tl = Timeline(\n",
    "    init_opts=opts.InitOpts(width='1400px',\n",
    "                            height='1000px',\n",
    "                            page_title=\"微博热榜\",\n",
    "                            theme=ThemeType.INFOGRAPHIC)\n",
    ")\n",
    "\n",
    "import os\n",
    "for root, dirs, files in os.walk('./out/hotrank/'):\n",
    "    for file in files:\n",
    "        xdata = []\n",
    "        ydata = []\n",
    "        with open(root+file,'r', encoding='utf-8') as f:\n",
    "            for line in f.readlines():\n",
    "                xdata.append(line.split(',')[0])\n",
    "                ydata.append(line.split(',')[1])\n",
    "        rank = (\n",
    "            Bar()\n",
    "            .add_xaxis(xdata[::-1])\n",
    "            .add_yaxis('热度',ydata[::-1])\n",
    "            .reversal_axis()\n",
    "            .set_global_opts(\n",
    "                title_opts=opts.TitleOpts(title=\"热榜\",subtitle=f\"{file[:5]} {file[6:8]}:{file[9:11]}\"),\n",
    "                yaxis_opts=opts.AxisOpts(name=\"热榜条目\"),\n",
    "                xaxis_opts=opts.AxisOpts(name=\"热度\"),\n",
    "            )\n",
    "            .set_series_opts(label_opts=opts.LabelOpts(position=\"right\"))\n",
    "        )\n",
    "        tl.add(rank,f\"{file[:5]} {file[6:8]}:{file[9:11]}\")\n",
    "tl.render('./out/tmp/hotrank.html')"
   ]
  }
 ],
 "metadata": {
  "kernelspec": {
   "name": "python3",
   "display_name": "Python 3.6.10 64-bit ('torch_ernie': conda)"
  },
  "language_info": {
   "codemirror_mode": {
    "name": "ipython",
    "version": 3
   },
   "file_extension": ".py",
   "mimetype": "text/x-python",
   "name": "python",
   "nbconvert_exporter": "python",
   "pygments_lexer": "ipython3",
   "version": "3.6.10"
  },
  "interpreter": {
   "hash": "c7438f86a8343b2cd4502def236846d02c8d2cf712d7e3ba9609f6dc376e0098"
  }
 },
 "nbformat": 4,
 "nbformat_minor": 5
}