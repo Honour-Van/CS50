{
 "cells": [
  {
   "cell_type": "code",
   "execution_count": null,
   "metadata": {},
   "outputs": [],
   "source": []
  },
  {
   "cell_type": "code",
   "execution_count": 15,
   "id": "79765996",
   "metadata": {},
   "outputs": [
    {
     "data": {
      "text/plain": [
       "'D:\\\\CS50\\\\Final\\\\out\\\\tmp\\\\hotrank.html'"
      ]
     },
     "execution_count": 15,
     "metadata": {},
     "output_type": "execute_result"
    }
   ],
   "source": [
    "from pyecharts.charts import Bar, Pie, Timeline, Grid\n",
    "from pyecharts.globals import ThemeType\n",
    "import pyecharts.options as opts\n",
    "tl = Timeline(\n",
    "    init_opts=opts.InitOpts(width='1400px',\n",
    "                            height='1000px',\n",
    "                            page_title=\"微博热榜\",\n",
    "                            theme=ThemeType.INFOGRAPHIC)\n",
    ")\n",
    "\n",
    "import os\n",
    "for root, dirs, files in os.walk('./out/hotrank/'):\n",
    "    for file in files:\n",
    "        xdata = []\n",
    "        ydata = []\n",
    "        with open(root+file,'r', encoding='utf-8') as f:\n",
    "            for line in f.readlines():\n",
    "                xdata.append(line.split(',')[0])\n",
    "                ydata.append(line.split(',')[1])\n",
    "        rank = (\n",
    "            Bar()\n",
    "            .add_xaxis(xdata[::-1])\n",
    "            .add_yaxis('热度',ydata[::-1])\n",
    "            .reversal_axis()\n",
    "            .set_global_opts(\n",
    "                title_opts=opts.TitleOpts(title=\"热榜\",subtitle=f\"{file[:5]} {file[6:8]}:{file[9:11]}\"),\n",
    "                yaxis_opts=opts.AxisOpts(name=\"热榜条目\"),\n",
    "                xaxis_opts=opts.AxisOpts(name=\"热度\"),\n",
    "            )\n",
    "            .set_series_opts(label_opts=opts.LabelOpts(position=\"right\"))\n",
    "        )\n",
    "        tl.add(rank,f\"{file[:5]} {file[6:8]}:{file[9:11]}\")\n",
    "tl.render('./out/tmp/hotrank.html')"
   ]
  }
 ],
 "metadata": {
  "kernelspec": {
   "display_name": "Python [conda env:root] *",
   "language": "python",
   "name": "conda-root-py"
  },
  "language_info": {
   "codemirror_mode": {
    "name": "ipython",
    "version": 3
   },
   "file_extension": ".py",
   "mimetype": "text/x-python",
   "name": "python",
   "nbconvert_exporter": "python",
   "pygments_lexer": "ipython3",
   "version": "3.8.8"
  }
 },
 "nbformat": 4,
 "nbformat_minor": 5
}