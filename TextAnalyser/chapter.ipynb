{
 "metadata": {
  "language_info": {
   "codemirror_mode": {
    "name": "ipython",
    "version": 3
   },
   "file_extension": ".py",
   "mimetype": "text/x-python",
   "name": "python",
   "nbconvert_exporter": "python",
   "pygments_lexer": "ipython3",
   "version": "3.8.8"
  },
  "orig_nbformat": 2,
  "kernelspec": {
   "name": "python388jvsc74a57bd07b4b4feff2f24a0f0a34464dbe537a36fda679851528fb8735cb41fa49dffb2d",
   "display_name": "Python 3.8.8 64-bit ('base': conda)"
  },
  "metadata": {
   "interpreter": {
    "hash": "bd4c67ef142469da7dc4d338a32ac40116904d26076b8e6aa587d80720bc6a2b"
   }
  }
 },
 "nbformat": 4,
 "nbformat_minor": 2,
 "cells": [
  {
   "cell_type": "code",
   "execution_count": 3,
   "metadata": {},
   "outputs": [],
   "source": [
    "import re\n",
    "title_pattern = re.compile(r'.* 第.*?回 .*\\n')\n",
    "cnt = 1\n",
    "fout = open(f'./data/{cnt}.txt', 'w', encoding='utf-8')\n",
    "with open('./红楼梦.txt', 'r', encoding='utf-8') as f:\n",
    "    for line in f.readlines():\n",
    "        if title_pattern.match(line):\n",
    "            fout.close()\n",
    "            fout = open(f'./data/{cnt}.txt', 'w', encoding='utf-8')\n",
    "            cnt += 1\n",
    "        fout.write(line)"
   ]
  },
  {
   "cell_type": "code",
   "execution_count": 1,
   "metadata": {},
   "outputs": [
    {
     "output_type": "stream",
     "name": "stderr",
     "text": [
      "Building prefix dict from the default dictionary ...\n",
      "Loading model from cache C:\\Users\\HAONIA~1\\AppData\\Local\\Temp\\jieba.cache\n",
      "Loading model cost 0.591 seconds.\n",
      "Prefix dict has been built successfully.\n"
     ]
    }
   ],
   "source": [
    "from analyser import TextAnalyser\n",
    "lut = ['贾宝玉','贾母','林黛玉','凤姐','王夫人','薛宝钗']\n",
    "data = []\n",
    "for i in range(1, 121):\n",
    "    analyser = TextAnalyser(f'./data/{i}.txt')\n",
    "    analyser.start(nameren=True, show=False)\n",
    "    # analyser.get_result(f'./out/{i}.csv',num=100,show=False)\n",
    "    data.append(analyser.look_up(lut))"
   ]
  },
  {
   "cell_type": "code",
   "execution_count": null,
   "metadata": {},
   "outputs": [],
   "source": [
    "import pyecharts.options as opts\n",
    "from pyecharts.charts import Line\n",
    "\n",
    "xdata = [f'第{x}回' for x in range(1, 121)]\n",
    "\n",
    "(\n",
    "    Line()\n",
    "    .set_global_opts(\n",
    "        tooltip_opts=opts.TooltipOpts(is_show=False),\n",
    "        xaxis_opts=opts.AxisOpts(type_=\"category\"),\n",
    "        yaxis_opts=opts.AxisOpts(\n",
    "            type_=\"value\",\n",
    "            axistick_opts=opts.AxisTickOpts(is_show=True),\n",
    "            splitline_opts=opts.SplitLineOpts(is_show=True),\n",
    "        ),\n",
    "    )\n",
    "    .add_xaxis(xaxis_data=x_data)\n",
    "    .add_yaxis(\n",
    "        series_name=\"贾宝玉\",\n",
    "        y_axis=[x[0] for x in data],\n",
    "        symbol=\"emptyCircle\",\n",
    "        is_symbol_show=True,\n",
    "        is_smooth=True,\n",
    "        label_opts=opts.LabelOpts(is_show=False),\n",
    "    )\n",
    "    .add_yaxis(\n",
    "        series_name=\"贾母\",\n",
    "        y_axis=[x[1] for x in data],\n",
    "        symbol=\"emptyCircle\",\n",
    "        is_symbol_show=True,\n",
    "        is_smooth=True,\n",
    "        label_opts=opts.LabelOpts(is_show=False),\n",
    "    )\n",
    "    贾母\n",
    "    .render(\"chapter.html\")\n",
    ")"
   ]
  }
 ]
}