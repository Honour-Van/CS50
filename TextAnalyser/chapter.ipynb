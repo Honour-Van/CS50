{
 "metadata": {
  "language_info": {
   "codemirror_mode": {
    "name": "ipython",
    "version": 3
   },
   "file_extension": ".py",
   "mimetype": "text/x-python",
   "name": "python",
   "nbconvert_exporter": "python",
   "pygments_lexer": "ipython3",
   "version": "3.8.8"
  },
  "orig_nbformat": 2,
  "kernelspec": {
   "name": "python388jvsc74a57bd07b4b4feff2f24a0f0a34464dbe537a36fda679851528fb8735cb41fa49dffb2d",
   "display_name": "Python 3.8.8 64-bit ('base': conda)"
  },
  "metadata": {
   "interpreter": {
    "hash": "bd4c67ef142469da7dc4d338a32ac40116904d26076b8e6aa587d80720bc6a2b"
   }
  }
 },
 "nbformat": 4,
 "nbformat_minor": 2,
 "cells": [
  {
   "cell_type": "code",
   "execution_count": 10,
   "metadata": {},
   "outputs": [],
   "source": [
    "import re\n",
    "title_pattern = re.compile(r'.* 第.*?回 .*\\n')\n",
    "cnt = 1\n",
    "fout = open(f'./data/{cnt}.txt', 'w', encoding='utf-8')\n",
    "with open('./红楼梦.txt', 'r', encoding='utf-8') as f:\n",
    "    for line in f.readlines():\n",
    "        if title_pattern.match(line):\n",
    "            fout.close()\n",
    "            fout = open(f'./data/{cnt}.txt', 'w', encoding='utf-8')\n",
    "            cnt += 1\n",
    "        fout.write(line)"
   ]
  },
  {
   "cell_type": "code",
   "execution_count": null,
   "metadata": {},
   "outputs": [],
   "source": [
    "from analyser import TextAnalyser as Ta\n",
    "for i in range(1, 121):\n",
    "    analyser = Ta(f'./{i}.txt')\n",
    "    analyser.start(nameren=True, show=False)\n",
    "    \n"
   ]
  }
 ]
}